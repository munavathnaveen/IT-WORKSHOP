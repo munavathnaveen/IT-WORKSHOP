import matplotlib.pyplot as plt
import pandas as pd
import numpy as np
df =pd.read_csv("iris.csv")
s=len([i for i in df["variety"] if i=="Setosa"])
ve=len([j for j in df["variety"] if j=="Versicolor"])
vi=len([k for k in df["variety"] if k=="Virginica"])
plt.figure(figsize=(8,10))
plt.pie([s,ve,vi],labels=["setosa","Versicolor","Verginica"],autopct="%2.1f%%",explode=(0.1,0.1,0.1),shadow=True)
plt.title("iris Species %")
plt.ylabel("Species",labelpad=45)
plt.legend(title="varieties",loc=(1,0),shadow=True)
plt.show()
